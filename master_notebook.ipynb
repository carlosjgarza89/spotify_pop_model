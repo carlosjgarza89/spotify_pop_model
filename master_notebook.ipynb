{
 "cells": [
  {
   "cell_type": "markdown",
   "metadata": {},
   "source": [
    "# Music Popularity Predictive Model\n",
    "Author: Carlos Garza"
   ]
  },
  {
   "cell_type": "markdown",
   "metadata": {},
   "source": [
    "## Overview\n",
    "This notebook details the building, tuning, and deployment of a model that predicts a song's popularity on spotify."
   ]
  },
  {
   "cell_type": "markdown",
   "metadata": {},
   "source": [
    "## Business Problem\n",
    "In the music industry, an important metric that has surfaced in the last few years is an artist's Spotify numbers. Many entities in the industry, from venues to record labels, will check an artist's spotify numbers before choosing to work with or book them and, for better or worse, will base their decision in part on the artist's performance on the platform.\n",
    "\n",
    "This increase in Spotify metric importance has opened opportunities for optimization in the pop and Nashville country music workflow. Typically, a producer or songwriter will rent studio time and hire studio musicians to produce singles that can then be pitched to artists. Artists buy these songs and rerecord them with their own studio teams to be released as singles or as part of a record. \n",
    "\n",
    "If producers had a model that they could use to evaluate their music while in the production and could deliver a model's predictions while pitching music, they would have a new edge in the industry."
   ]
  },
  {
   "cell_type": "markdown",
   "metadata": {},
   "source": [
    "## Data\n",
    "The data for this project originates from the Spotify API. The data used for this model training was organized and uploaded to Kaggle by user Yamac Eren Ay, and can be found [here](https://www.kaggle.com/yamaerenay/spotify-dataset-19212020-160k-tracks?select=data.csv).\n",
    "\n",
    "The data describes 174,389 songs. Specifics features of the data are explored below."
   ]
  },
  {
   "cell_type": "code",
   "execution_count": 6,
   "metadata": {},
   "outputs": [],
   "source": [
    "# import standard libraries\n",
    "import pandas as pd\n",
    "import numpy as np\n",
    "import matplotlib.pyplot as plt\n",
    "%matplotlib inline"
   ]
  },
  {
   "cell_type": "code",
   "execution_count": 7,
   "metadata": {},
   "outputs": [
    {
     "data": {
      "text/html": [
       "<div>\n",
       "<style scoped>\n",
       "    .dataframe tbody tr th:only-of-type {\n",
       "        vertical-align: middle;\n",
       "    }\n",
       "\n",
       "    .dataframe tbody tr th {\n",
       "        vertical-align: top;\n",
       "    }\n",
       "\n",
       "    .dataframe thead th {\n",
       "        text-align: right;\n",
       "    }\n",
       "</style>\n",
       "<table border=\"1\" class=\"dataframe\">\n",
       "  <thead>\n",
       "    <tr style=\"text-align: right;\">\n",
       "      <th></th>\n",
       "      <th>acousticness</th>\n",
       "      <th>artists</th>\n",
       "      <th>danceability</th>\n",
       "      <th>duration_ms</th>\n",
       "      <th>energy</th>\n",
       "      <th>explicit</th>\n",
       "      <th>id</th>\n",
       "      <th>instrumentalness</th>\n",
       "      <th>key</th>\n",
       "      <th>liveness</th>\n",
       "      <th>loudness</th>\n",
       "      <th>mode</th>\n",
       "      <th>name</th>\n",
       "      <th>popularity</th>\n",
       "      <th>release_date</th>\n",
       "      <th>speechiness</th>\n",
       "      <th>tempo</th>\n",
       "      <th>valence</th>\n",
       "      <th>year</th>\n",
       "    </tr>\n",
       "  </thead>\n",
       "  <tbody>\n",
       "    <tr>\n",
       "      <th>0</th>\n",
       "      <td>0.991000</td>\n",
       "      <td>['Mamie Smith']</td>\n",
       "      <td>0.598</td>\n",
       "      <td>168333</td>\n",
       "      <td>0.224</td>\n",
       "      <td>0</td>\n",
       "      <td>0cS0A1fUEUd1EW3FcF8AEI</td>\n",
       "      <td>0.000522</td>\n",
       "      <td>5</td>\n",
       "      <td>0.3790</td>\n",
       "      <td>-12.628</td>\n",
       "      <td>0</td>\n",
       "      <td>Keep A Song In Your Soul</td>\n",
       "      <td>12</td>\n",
       "      <td>1920</td>\n",
       "      <td>0.0936</td>\n",
       "      <td>149.976</td>\n",
       "      <td>0.6340</td>\n",
       "      <td>1920</td>\n",
       "    </tr>\n",
       "    <tr>\n",
       "      <th>1</th>\n",
       "      <td>0.643000</td>\n",
       "      <td>[\"Screamin' Jay Hawkins\"]</td>\n",
       "      <td>0.852</td>\n",
       "      <td>150200</td>\n",
       "      <td>0.517</td>\n",
       "      <td>0</td>\n",
       "      <td>0hbkKFIJm7Z05H8Zl9w30f</td>\n",
       "      <td>0.026400</td>\n",
       "      <td>5</td>\n",
       "      <td>0.0809</td>\n",
       "      <td>-7.261</td>\n",
       "      <td>0</td>\n",
       "      <td>I Put A Spell On You</td>\n",
       "      <td>7</td>\n",
       "      <td>1920-01-05</td>\n",
       "      <td>0.0534</td>\n",
       "      <td>86.889</td>\n",
       "      <td>0.9500</td>\n",
       "      <td>1920</td>\n",
       "    </tr>\n",
       "    <tr>\n",
       "      <th>2</th>\n",
       "      <td>0.993000</td>\n",
       "      <td>['Mamie Smith']</td>\n",
       "      <td>0.647</td>\n",
       "      <td>163827</td>\n",
       "      <td>0.186</td>\n",
       "      <td>0</td>\n",
       "      <td>11m7laMUgmOKqI3oYzuhne</td>\n",
       "      <td>0.000018</td>\n",
       "      <td>0</td>\n",
       "      <td>0.5190</td>\n",
       "      <td>-12.098</td>\n",
       "      <td>1</td>\n",
       "      <td>Golfing Papa</td>\n",
       "      <td>4</td>\n",
       "      <td>1920</td>\n",
       "      <td>0.1740</td>\n",
       "      <td>97.600</td>\n",
       "      <td>0.6890</td>\n",
       "      <td>1920</td>\n",
       "    </tr>\n",
       "    <tr>\n",
       "      <th>3</th>\n",
       "      <td>0.000173</td>\n",
       "      <td>['Oscar Velazquez']</td>\n",
       "      <td>0.730</td>\n",
       "      <td>422087</td>\n",
       "      <td>0.798</td>\n",
       "      <td>0</td>\n",
       "      <td>19Lc5SfJJ5O1oaxY0fpwfh</td>\n",
       "      <td>0.801000</td>\n",
       "      <td>2</td>\n",
       "      <td>0.1280</td>\n",
       "      <td>-7.311</td>\n",
       "      <td>1</td>\n",
       "      <td>True House Music - Xavier Santos &amp; Carlos Gomi...</td>\n",
       "      <td>17</td>\n",
       "      <td>1920-01-01</td>\n",
       "      <td>0.0425</td>\n",
       "      <td>127.997</td>\n",
       "      <td>0.0422</td>\n",
       "      <td>1920</td>\n",
       "    </tr>\n",
       "    <tr>\n",
       "      <th>4</th>\n",
       "      <td>0.295000</td>\n",
       "      <td>['Mixe']</td>\n",
       "      <td>0.704</td>\n",
       "      <td>165224</td>\n",
       "      <td>0.707</td>\n",
       "      <td>1</td>\n",
       "      <td>2hJjbsLCytGsnAHfdsLejp</td>\n",
       "      <td>0.000246</td>\n",
       "      <td>10</td>\n",
       "      <td>0.4020</td>\n",
       "      <td>-6.036</td>\n",
       "      <td>0</td>\n",
       "      <td>Xuniverxe</td>\n",
       "      <td>2</td>\n",
       "      <td>1920-10-01</td>\n",
       "      <td>0.0768</td>\n",
       "      <td>122.076</td>\n",
       "      <td>0.2990</td>\n",
       "      <td>1920</td>\n",
       "    </tr>\n",
       "  </tbody>\n",
       "</table>\n",
       "</div>"
      ],
      "text/plain": [
       "   acousticness                    artists  danceability  duration_ms  energy  \\\n",
       "0      0.991000            ['Mamie Smith']         0.598       168333   0.224   \n",
       "1      0.643000  [\"Screamin' Jay Hawkins\"]         0.852       150200   0.517   \n",
       "2      0.993000            ['Mamie Smith']         0.647       163827   0.186   \n",
       "3      0.000173        ['Oscar Velazquez']         0.730       422087   0.798   \n",
       "4      0.295000                   ['Mixe']         0.704       165224   0.707   \n",
       "\n",
       "   explicit                      id  instrumentalness  key  liveness  \\\n",
       "0         0  0cS0A1fUEUd1EW3FcF8AEI          0.000522    5    0.3790   \n",
       "1         0  0hbkKFIJm7Z05H8Zl9w30f          0.026400    5    0.0809   \n",
       "2         0  11m7laMUgmOKqI3oYzuhne          0.000018    0    0.5190   \n",
       "3         0  19Lc5SfJJ5O1oaxY0fpwfh          0.801000    2    0.1280   \n",
       "4         1  2hJjbsLCytGsnAHfdsLejp          0.000246   10    0.4020   \n",
       "\n",
       "   loudness  mode                                               name  \\\n",
       "0   -12.628     0                           Keep A Song In Your Soul   \n",
       "1    -7.261     0                               I Put A Spell On You   \n",
       "2   -12.098     1                                       Golfing Papa   \n",
       "3    -7.311     1  True House Music - Xavier Santos & Carlos Gomi...   \n",
       "4    -6.036     0                                          Xuniverxe   \n",
       "\n",
       "   popularity release_date  speechiness    tempo  valence  year  \n",
       "0          12         1920       0.0936  149.976   0.6340  1920  \n",
       "1           7   1920-01-05       0.0534   86.889   0.9500  1920  \n",
       "2           4         1920       0.1740   97.600   0.6890  1920  \n",
       "3          17   1920-01-01       0.0425  127.997   0.0422  1920  \n",
       "4           2   1920-10-01       0.0768  122.076   0.2990  1920  "
      ]
     },
     "execution_count": 7,
     "metadata": {},
     "output_type": "execute_result"
    }
   ],
   "source": [
    "# import data\n",
    "df = pd.read_csv('data/data.csv')\n",
    "df.head()"
   ]
  },
  {
   "cell_type": "code",
   "execution_count": 14,
   "metadata": {},
   "outputs": [
    {
     "name": "stdout",
     "output_type": "stream",
     "text": [
      "<class 'pandas.core.frame.DataFrame'>\n",
      "RangeIndex: 174389 entries, 0 to 174388\n",
      "Data columns (total 19 columns):\n",
      " #   Column            Non-Null Count   Dtype  \n",
      "---  ------            --------------   -----  \n",
      " 0   acousticness      174389 non-null  float64\n",
      " 1   artists           174389 non-null  object \n",
      " 2   danceability      174389 non-null  float64\n",
      " 3   duration_ms       174389 non-null  int64  \n",
      " 4   energy            174389 non-null  float64\n",
      " 5   explicit          174389 non-null  int64  \n",
      " 6   id                174389 non-null  object \n",
      " 7   instrumentalness  174389 non-null  float64\n",
      " 8   key               174389 non-null  int64  \n",
      " 9   liveness          174389 non-null  float64\n",
      " 10  loudness          174389 non-null  float64\n",
      " 11  mode              174389 non-null  int64  \n",
      " 12  name              174389 non-null  object \n",
      " 13  popularity        174389 non-null  int64  \n",
      " 14  release_date      174389 non-null  object \n",
      " 15  speechiness       174389 non-null  float64\n",
      " 16  tempo             174389 non-null  float64\n",
      " 17  valence           174389 non-null  float64\n",
      " 18  year              174389 non-null  int64  \n",
      "dtypes: float64(9), int64(6), object(4)\n",
      "memory usage: 25.3+ MB\n"
     ]
    }
   ],
   "source": [
    "df.info()"
   ]
  },
  {
   "cell_type": "code",
   "execution_count": null,
   "metadata": {},
   "outputs": [],
   "source": []
  },
  {
   "cell_type": "code",
   "execution_count": null,
   "metadata": {},
   "outputs": [],
   "source": []
  },
  {
   "cell_type": "code",
   "execution_count": 1,
   "metadata": {},
   "outputs": [],
   "source": [
    "import pandas as pd\n",
    "df = pd.read_csv('data/data.csv')"
   ]
  },
  {
   "cell_type": "markdown",
   "metadata": {},
   "source": [
    "## Data Preprocessing"
   ]
  },
  {
   "cell_type": "markdown",
   "metadata": {},
   "source": [
    "## Baseline Models"
   ]
  },
  {
   "cell_type": "markdown",
   "metadata": {},
   "source": [
    "## Model Tuning"
   ]
  },
  {
   "cell_type": "markdown",
   "metadata": {},
   "source": [
    "## Model Evaluation"
   ]
  },
  {
   "cell_type": "markdown",
   "metadata": {},
   "source": [
    "## Conclusions"
   ]
  },
  {
   "cell_type": "markdown",
   "metadata": {},
   "source": [
    "## Future Work"
   ]
  },
  {
   "cell_type": "code",
   "execution_count": null,
   "metadata": {},
   "outputs": [],
   "source": []
  }
 ],
 "metadata": {
  "kernelspec": {
   "display_name": "learn-env",
   "language": "python",
   "name": "learn-env"
  },
  "language_info": {
   "codemirror_mode": {
    "name": "ipython",
    "version": 3
   },
   "file_extension": ".py",
   "mimetype": "text/x-python",
   "name": "python",
   "nbconvert_exporter": "python",
   "pygments_lexer": "ipython3",
   "version": "3.8.5"
  }
 },
 "nbformat": 4,
 "nbformat_minor": 4
}
